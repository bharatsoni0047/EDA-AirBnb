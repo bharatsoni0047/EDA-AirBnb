{
  "nbformat": 4,
  "nbformat_minor": 0,
  "metadata": {
    "colab": {
      "private_outputs": true,
      "provenance": [],
      "collapsed_sections": [
        "vncDsAP0Gaoa",
        "FJNUwmbgGyua",
        "w6K7xa23Elo4",
        "yQaldy8SH6Dl",
        "mDgbUHAGgjLW",
        "O_i_v8NEhb9l",
        "HhfV-JJviCcP",
        "Y3lxredqlCYt",
        "3RnN4peoiCZX",
        "x71ZqKXriCWQ",
        "7hBIi_osiCS2",
        "JlHwYmJAmNHm",
        "35m5QtbWiB9F",
        "PoPl-ycgm1ru",
        "H0kj-8xxnORC",
        "nA9Y7ga8ng1Z",
        "PBTbrJXOngz2",
        "u3PMJOP6ngxN",
        "dauF4eBmngu3",
        "bKJF3rekwFvQ",
        "MSa1f5Uengrz",
        "GF8Ens_Soomf",
        "JcMwzZxoAimU",
        "gCX9965dhzqZ",
        "gIfDvo9L0UH2"
      ],
      "include_colab_link": true
    },
    "kernelspec": {
      "name": "python3",
      "display_name": "Python 3"
    },
    "language_info": {
      "name": "python"
    }
  },
  "cells": [
    {
      "cell_type": "markdown",
      "metadata": {
        "id": "view-in-github",
        "colab_type": "text"
      },
      "source": [
        "<a href=\"https://colab.research.google.com/github/bharatsoni0047/EDA-AirBnb/blob/master/AirBnb.ipynb\" target=\"_parent\"><img src=\"https://colab.research.google.com/assets/colab-badge.svg\" alt=\"Open In Colab\"/></a>"
      ]
    },
    {
      "cell_type": "markdown",
      "source": [
        "# **Project Name**    - **AirBnb Booking Analysis**\n"
      ],
      "metadata": {
        "id": "vncDsAP0Gaoa"
      }
    },
    {
      "cell_type": "markdown",
      "source": [
        "##### **Project Type**    - EDA\n",
        "##### **Contribution**    - Team\n",
        "\n",
        "##### **Team Member 1 -** Deepak Karki\n",
        "##### **Team Member 2 -**  Prakshita Agrawal\n",
        "##### **Team Member 3 -** Bharat Kumar Soni(me)\n",
        "##### **Team Member 4 -** Bhatu Sonawane\n",
        "##### **Team Member 5 -** Sopan Wadekar"
      ],
      "metadata": {
        "id": "beRrZCGUAJYm"
      }
    },
    {
      "cell_type": "markdown",
      "source": [
        "# **Project Summary -**"
      ],
      "metadata": {
        "id": "FJNUwmbgGyua"
      }
    },
    {
      "cell_type": "markdown",
      "source": [
        "**Problem statement** :-\n",
        "Finding out the reviews and see the busiest and non-busiest area steps by providing offers based on the stay and review factors. Using the data provided, this paper aims to analyze the data to determine which variables are correlated with customer.\n",
        "An analysis will also be done to identify the people wants for the rooms.\n",
        "\n",
        "\n",
        "\n",
        "**Approach**:\n",
        "Exploratory Data Analysis (EDA) is an approach to analyze data. The first and foremost task is that the data analysis to view the data and tries to make some sense out of it. Later we figure out what question we want to ask and how to use the available data to get the insights and all the answers that we need from the data set. EDA helps us to\n",
        "\n",
        "Delve into the dataset\n",
        "Examine the relationships among the variables\n",
        "Identify the interesting observation\n",
        "Develop an initial idea of possible associations among the predictors and the target variable. Our airbnb data set consists of 48895 columns and16 rows records. out of which 4 objective, integer, and float  and Boolean data type.\n",
        "\n",
        "\n",
        "\n",
        "-----------------------------------------------------------\n",
        "**Team Member’s Name, Email and Contribution**:-\n",
        "\n",
        "Name -  Deepak Karki    \n",
        "Email – dishunwab0@gmail.com\n",
        "\n",
        "Data Understanding,\n",
        "Feature Analysis,\n",
        "Null value check, Fill null values\n",
        "Data Visualization\n",
        "Bar charts,\n",
        "Research Analytics\n",
        "Technical documentation\n",
        "\n",
        "\n",
        "Name – Prakshita Agrawal  \n",
        "Email – prakshita21@gmail.com\n",
        "\n",
        "Data Understanding,\n",
        "Feature Analysis,\n",
        "Data Visualization,\n",
        "Box plot, Pie Chart, Heat map,\n",
        "Multivariate Analysis,\n",
        "\n",
        "Name – Bharat Kumar Soni   \n",
        "Email -  bharatsoni0047@gmail.com\n",
        "\n",
        "Data Understanding,\n",
        "Data Conduct,\n",
        "Collect information and idea,\n",
        "Data Visualization,\n",
        "Correlation matrix,\n",
        "Feature Engineering\n",
        "\n",
        "Name – Bhatu Sonawane   \n",
        "Email – sonawanebhatu406@gmail.com\n",
        "\n",
        "Data Understanding,\n",
        "Data Conduct,\n",
        "Collect information and idea\n",
        "\n",
        "Name – Sopan Wadekar    \n",
        "Email – sopanwadekar777@gmail.com\n",
        "\n",
        "Data Understanding,\n",
        "Data Conduct,\n",
        "Collect information and idea,\n",
        "\n",
        "\n",
        "\n",
        "\n"
      ],
      "metadata": {
        "id": "F6v_1wHtG2nS"
      }
    },
    {
      "cell_type": "markdown",
      "source": [
        "# **GitHub Link -**"
      ],
      "metadata": {
        "id": "w6K7xa23Elo4"
      }
    },
    {
      "cell_type": "markdown",
      "source": [
        "https://github.com/bharatsoni0047/Airbnb-EDA"
      ],
      "metadata": {
        "id": "h1o69JH3Eqqn"
      }
    },
    {
      "cell_type": "markdown",
      "source": [
        "# **Problem Statement**\n"
      ],
      "metadata": {
        "id": "yQaldy8SH6Dl"
      }
    },
    {
      "cell_type": "markdown",
      "source": [
        "**BUSINESS PROBLEM OVERVIEW**\n",
        "\n",
        "Since 2008, guests and hosts have used Airbnb to expand on traveling possibilities and present a more unique, personalized way of experiencing the world. Today, Airbnb became one of a kind service that is used and recognized by the whole world. Data analysis on millions of listings provided through Airbnb is a crucial factor for the company. These millions of listings generate a lot of data - data that can be analyzed and used for security, business decisions, understanding of customers' and providers' (hosts) behavior and performance on the platform, guiding marketing initiatives, implementation of innovative additional services and much more."
      ],
      "metadata": {
        "id": "DpeJGUA3kjGy"
      }
    },
    {
      "cell_type": "markdown",
      "source": [
        "#### **Define Your Business Objective?**\n",
        "**-Explore and analyze the data to discover key understandings**"
      ],
      "metadata": {
        "id": "5iqWF6FREAOx"
      }
    },
    {
      "cell_type": "markdown",
      "source": [
        "# **General Guidelines** : -  "
      ],
      "metadata": {
        "id": "mDgbUHAGgjLW"
      }
    },
    {
      "cell_type": "markdown",
      "source": [
        "1.   Well-structured, formatted, and commented code is required.\n",
        "2.   Exception Handling, Production Grade Code & Deployment Ready Code will be a plus. Those students will be awarded some additional credits.\n",
        "     \n",
        "     The additional credits will have advantages over other students during Star Student selection.\n",
        "       \n",
        "             [ Note: - Deployment Ready Code is defined as, the whole .ipynb notebook should be executable in one go\n",
        "                       without a single error logged. ]\n",
        "\n",
        "3.   Each and every logic should have proper comments.\n",
        "4. You may add as many number of charts you want. Make Sure for each and every chart the following format should be answered.\n",
        "        \n",
        "\n",
        "```\n",
        "# Chart visualization code\n",
        "```\n",
        "            \n",
        "\n",
        "*   Why did you pick the specific chart?\n",
        "*   What is/are the insight(s) found from the chart?\n",
        "* Will the gained insights help creating a positive business impact?\n",
        "Are there any insights that lead to negative growth? Justify with specific reason.\n",
        "\n",
        "5. You have to create at least 20 logical & meaningful charts having important insights.\n",
        "\n",
        "\n",
        "[ Hints : - Do the Vizualization in  a structured way while following \"UBM\" Rule.\n",
        "\n",
        "U - Univariate Analysis,\n",
        "\n",
        "B - Bivariate Analysis (Numerical - Categorical, Numerical - Numerical, Categorical - Categorical)\n",
        "\n",
        "M - Multivariate Analysis\n",
        " ]\n",
        "\n",
        "\n",
        "\n"
      ],
      "metadata": {
        "id": "ZrxVaUj-hHfC"
      }
    },
    {
      "cell_type": "markdown",
      "source": [
        "# ***Let's Begin !***"
      ],
      "metadata": {
        "id": "O_i_v8NEhb9l"
      }
    },
    {
      "cell_type": "markdown",
      "source": [
        "## ***1. Know Your Data***"
      ],
      "metadata": {
        "id": "HhfV-JJviCcP"
      }
    },
    {
      "cell_type": "markdown",
      "source": [
        "### Import Libraries"
      ],
      "metadata": {
        "id": "Y3lxredqlCYt"
      }
    },
    {
      "cell_type": "code",
      "source": [
        "# Import Libraries\n",
        "\n",
        "# For Manipulations\n",
        "import numpy as np\n",
        "import pandas as pd\n",
        "\n",
        "# For Data Visualization\n",
        "import matplotlib.pyplot as plt\n",
        "import seaborn as sns\n",
        "\n",
        "%matplotlib inline\n",
        "\n",
        "import warnings\n",
        "warnings.filterwarnings('ignore')"
      ],
      "metadata": {
        "id": "M8Vqi-pPk-HR"
      },
      "execution_count": null,
      "outputs": []
    },
    {
      "cell_type": "markdown",
      "source": [
        "### Dataset Loading"
      ],
      "metadata": {
        "id": "3RnN4peoiCZX"
      }
    },
    {
      "cell_type": "code",
      "source": [
        "#importing the data by mounting the google drive\n",
        "\n",
        "from google.colab import drive\n",
        "drive.mount('/content/drive')"
      ],
      "metadata": {
        "id": "4CkvbW_SlZ_R"
      },
      "execution_count": null,
      "outputs": []
    },
    {
      "cell_type": "code",
      "source": [
        "#Loading the data set\n",
        "path = \"/content/drive/MyDrive/EDA/Airbnb/Airbnb NYC 2019.csv\"\n",
        "\n",
        "airbnb_data = pd.read_csv(path)\n",
        "# Succesfully loaded"
      ],
      "metadata": {
        "id": "CvwvdiRXSu7D"
      },
      "execution_count": null,
      "outputs": []
    },
    {
      "cell_type": "markdown",
      "source": [
        "### Dataset First View"
      ],
      "metadata": {
        "id": "x71ZqKXriCWQ"
      }
    },
    {
      "cell_type": "code",
      "source": [
        "# Dataset First Look\n",
        "airbnb_data.head() # see the top 5 rows and columns of dataset"
      ],
      "metadata": {
        "id": "LWNFOSvLl09H"
      },
      "execution_count": null,
      "outputs": []
    },
    {
      "cell_type": "code",
      "source": [
        "# last 5 rows and columns\n",
        "airbnb_data.tail() # see the last 5 rows and columns of dataset"
      ],
      "metadata": {
        "id": "nkTLwqrWTt1S"
      },
      "execution_count": null,
      "outputs": []
    },
    {
      "cell_type": "markdown",
      "source": [
        "### Dataset Rows & Columns count"
      ],
      "metadata": {
        "id": "7hBIi_osiCS2"
      }
    },
    {
      "cell_type": "code",
      "source": [
        "# Dataset Rows & Columns count\n",
        "print('Shape of the dataset', airbnb_data.shape)"
      ],
      "metadata": {
        "id": "Kllu7SJgmLij"
      },
      "execution_count": null,
      "outputs": []
    },
    {
      "cell_type": "markdown",
      "source": [
        "### Dataset Information"
      ],
      "metadata": {
        "id": "JlHwYmJAmNHm"
      }
    },
    {
      "cell_type": "code",
      "source": [
        "# Dataset Info\n",
        "airbnb_data.info()"
      ],
      "metadata": {
        "id": "e9hRXRi6meOf"
      },
      "execution_count": null,
      "outputs": []
    },
    {
      "cell_type": "markdown",
      "source": [
        "#### Duplicate Values"
      ],
      "metadata": {
        "id": "35m5QtbWiB9F"
      }
    },
    {
      "cell_type": "code",
      "source": [
        "# Get a Boolean array indicating whether each row is a duplicate\n",
        "duplicates = airbnb_data.duplicated()\n",
        "\n",
        "# Count the number of duplicates\n",
        "duplicate_count = duplicates.sum()\n",
        "# Print the number of duplicates\n",
        "print(f\"Number of duplicates: {duplicate_count}\")"
      ],
      "metadata": {
        "id": "1sLdpKYkmox0"
      },
      "execution_count": null,
      "outputs": []
    },
    {
      "cell_type": "markdown",
      "source": [
        "#### Missing Values/Null Values"
      ],
      "metadata": {
        "id": "PoPl-ycgm1ru"
      }
    },
    {
      "cell_type": "code",
      "source": [
        "# Missing Values/Null Values Count\n",
        "print(f'The number of missing values before cleaning the dataset are:')\n",
        "airbnb_data.isnull().sum()"
      ],
      "metadata": {
        "id": "GgHWkxvamxVg"
      },
      "execution_count": null,
      "outputs": []
    },
    {
      "cell_type": "markdown",
      "source": [
        "From the above observations we can see:\n",
        "\n",
        "1. There are 48895 rows and 16 columns in our dataset.\n",
        "\n",
        "2. In which 6 are categorical and 10 are numerical.\n",
        "\n",
        "3. In few columns null value is present so we need to remove that."
      ],
      "metadata": {
        "id": "0gpy9M-oT_1S"
      }
    },
    {
      "cell_type": "code",
      "source": [
        "# Visualizing the missing values\n",
        "print('These are some columns which have NULL values \\n \\n', airbnb_data.loc[:, ['name', 'host_name', 'last_review', 'reviews_per_month']] == 'NaN')\n"
      ],
      "metadata": {
        "id": "3q5wnI3om9sJ"
      },
      "execution_count": null,
      "outputs": []
    },
    {
      "cell_type": "markdown",
      "source": [
        "**In** **the** **column** **[name] and [host_name] which have 16 and 21 null value only.\n",
        "But in the column [last_review]** **and** **[reviews_per_month]** **both**  **which** **have** **most** **null** **values** **is** **10052**"
      ],
      "metadata": {
        "id": "gB-tXDRCUx4D"
      }
    },
    {
      "cell_type": "markdown",
      "source": [
        "### What did you know about your dataset?"
      ],
      "metadata": {
        "id": "H0kj-8xxnORC"
      }
    },
    {
      "cell_type": "markdown",
      "source": [
        "Airbnb became one of a kind service that is used and recognized by the whole world. Data analysis on millions of listings provided through Airbnb is a crucial factor for the company.\n",
        "This dataset has around 49,000 observations in it with 16 columns and it is a mix between categorical and numeric values.\n",
        "\n"
      ],
      "metadata": {
        "id": "gfoNAAC-nUe_"
      }
    },
    {
      "cell_type": "markdown",
      "source": [
        "## ***2. Understanding Your Variables***"
      ],
      "metadata": {
        "id": "nA9Y7ga8ng1Z"
      }
    },
    {
      "cell_type": "code",
      "source": [
        "# Dataset Columns\n",
        "airbnb_data.columns"
      ],
      "metadata": {
        "id": "j7xfkqrt5Ag5"
      },
      "execution_count": null,
      "outputs": []
    },
    {
      "cell_type": "code",
      "source": [
        "# Dataset Describe\n",
        "airbnb_data.describe()"
      ],
      "metadata": {
        "id": "DnOaZdaE5Q5t"
      },
      "execution_count": null,
      "outputs": []
    },
    {
      "cell_type": "markdown",
      "source": [
        "### Variables Description"
      ],
      "metadata": {
        "id": "PBTbrJXOngz2"
      }
    },
    {
      "cell_type": "markdown",
      "source": [
        "id------Unique ID\n",
        "\n",
        "name-----\tName of the listing\n",
        "\n",
        "host_id-----\tUnique host_id\n",
        "\n",
        "host_name-----Name of the host\n",
        "\n",
        "neighbourhood_group-----\tlocation\n",
        "\n",
        "neighborhood-----\tarea\n",
        "\n",
        "latitude-----\tLatitude range\n",
        "\n",
        "longitude-----\tLongitude range\n",
        "\n",
        "room_type-----\tType of listing\n",
        "\n",
        "price-----\tPrice of listing\n",
        "\n",
        "minimum_nights-----\tMinimum nights to be paid for\n",
        "\n",
        "Number_of reviews-----\tNumber of reviews\n",
        "\n",
        "last_review-----\tContent of the last review\n",
        "\n",
        "reeviews_per_month-----\tNumber of checks per month\n",
        "\n",
        "calculated _host_listing_count-----\tTotal count\n",
        "\n",
        "availability_365-----\tAvailability around the year\n"
      ],
      "metadata": {
        "id": "aJV4KIxSnxay"
      }
    },
    {
      "cell_type": "markdown",
      "source": [
        "### Check Unique Values for each variable."
      ],
      "metadata": {
        "id": "u3PMJOP6ngxN"
      }
    },
    {
      "cell_type": "code",
      "source": [
        "# Check Unique Values for each variable.\n",
        "airbnb_data.nunique()"
      ],
      "metadata": {
        "id": "zms12Yq5n-jE"
      },
      "execution_count": null,
      "outputs": []
    },
    {
      "cell_type": "markdown",
      "source": [
        "## ***3. Data Wrangling***"
      ],
      "metadata": {
        "id": "dauF4eBmngu3"
      }
    },
    {
      "cell_type": "markdown",
      "source": [
        "### Data Wrangling Code"
      ],
      "metadata": {
        "id": "bKJF3rekwFvQ"
      }
    },
    {
      "cell_type": "code",
      "source": [
        "# remove some columns\n",
        "\n",
        "airbnb_data.drop(['last_review', 'reviews_per_month'], axis=1, inplace=True)"
      ],
      "metadata": {
        "id": "wk-9a2fpoLcV"
      },
      "execution_count": null,
      "outputs": []
    },
    {
      "cell_type": "code",
      "source": [
        "airbnb_data"
      ],
      "metadata": {
        "id": "-H-JlPmxWkRI"
      },
      "execution_count": null,
      "outputs": []
    },
    {
      "cell_type": "code",
      "source": [
        "#Fill null values with Not Present\n",
        "airbnb_data['name'].fillna('Not present', inplace=True)\n",
        "airbnb_data['host_name'].fillna('Not present', inplace=True)"
      ],
      "metadata": {
        "id": "CGMTpBQXWuTA"
      },
      "execution_count": null,
      "outputs": []
    },
    {
      "cell_type": "code",
      "source": [
        "airbnb_data.info()"
      ],
      "metadata": {
        "id": "Xw_SlBAHWm_f"
      },
      "execution_count": null,
      "outputs": []
    },
    {
      "cell_type": "code",
      "source": [
        "# Checking for null values in the new dataset\n",
        "print(f'The number of missing values after cleaning the data are:')\n",
        "airbnb_data.isnull().sum()"
      ],
      "metadata": {
        "id": "wM9juRYPWm8_"
      },
      "execution_count": null,
      "outputs": []
    },
    {
      "cell_type": "markdown",
      "source": [
        "### What all manipulations have you done and insights you found?"
      ],
      "metadata": {
        "id": "MSa1f5Uengrz"
      }
    },
    {
      "cell_type": "markdown",
      "source": [
        "1.Removed some columns what we don't need so our dataset is more clear\n",
        "\n",
        "2.Fill null values with Not Present\n",
        "\n",
        "3.we have dropped all the null values from our dataset."
      ],
      "metadata": {
        "id": "LbyXE7I1olp8"
      }
    },
    {
      "cell_type": "markdown",
      "source": [
        "## ***4. Data Vizualization, Storytelling & Experimenting with charts : Understand the relationships between variables***"
      ],
      "metadata": {
        "id": "GF8Ens_Soomf"
      }
    },
    {
      "cell_type": "markdown",
      "source": [
        " ### **Top listing counts**\n",
        "\n"
      ],
      "metadata": {
        "id": "mnBeKfNaa9Q3"
      }
    },
    {
      "cell_type": "code",
      "source": [
        "# Showing top 15 hosts in terms of listing count\n",
        "top_host_id = airbnb_data['host_id'].value_counts().head(15)"
      ],
      "metadata": {
        "id": "7v_ESjsspbW7"
      },
      "execution_count": null,
      "outputs": []
    },
    {
      "cell_type": "code",
      "source": [
        "top_host_id"
      ],
      "metadata": {
        "id": "pqfyePYCYV2r"
      },
      "execution_count": null,
      "outputs": []
    },
    {
      "cell_type": "code",
      "source": [
        "from matplotlib import figure\n",
        "# set the figure size for data visualizations plot using a bar chart\n",
        "sns.set(rc={'figure.figsize' : (15,8)})\n",
        "host_bar = top_host_id.plot(kind='bar')\n",
        "host_bar.set_title('Host with the most listnings')\n",
        "host_bar.set_xlabel('Host IDs')\n",
        "host_bar.set_ylabel('Count of listing')\n",
        "plt.plot(top_host_id)\n",
        "plt.show()"
      ],
      "metadata": {
        "id": "JR7vOnBpYYvj"
      },
      "execution_count": null,
      "outputs": []
    },
    {
      "cell_type": "code",
      "source": [
        "from numpy.lib.shape_base import column_stack\n",
        "# Correlation matrix\n",
        "\n",
        "plt.figure(figsize=(14,10))\n",
        "sns.heatmap(airbnb_data.corr(),annot=True)"
      ],
      "metadata": {
        "id": "3xf6ku4IYYsY"
      },
      "execution_count": null,
      "outputs": []
    },
    {
      "cell_type": "markdown",
      "source": [
        "From the above plot we can see that there is not much observable correlation between variables\n"
      ],
      "metadata": {
        "id": "can7Bmf-YhqM"
      }
    },
    {
      "cell_type": "code",
      "source": [
        "airbnb_data.head()"
      ],
      "metadata": {
        "id": "DshKHFjTYYqG"
      },
      "execution_count": null,
      "outputs": []
    },
    {
      "cell_type": "code",
      "source": [
        "# Separating the numeric and categorical features.\n",
        "\n",
        "numeric_features = airbnb_data.describe().columns\n",
        "\n",
        "categorical_fetures = airbnb_data.describe(exclude=[int, float]).columns\n",
        "\n",
        "print('Numeric Features:',list(numeric_features))\n",
        "print('_'*160)\n",
        "print('Categorical Features:',list(categorical_fetures))"
      ],
      "metadata": {
        "id": "xCbyRiOfYYng"
      },
      "execution_count": null,
      "outputs": []
    },
    {
      "cell_type": "code",
      "source": [
        "# Lets first check out the numeric_features and understand their distributions.\n",
        "\n",
        "names = numeric_features.values[1:]  #exclude id column.\n",
        "ncols = 4\n",
        "nrows = 2\n",
        "fig, axes = plt.subplots(nrows,ncols, figsize=(20,5))\n",
        "fig.tight_layout(h_pad=2, w_pad=4)\n",
        "\n",
        "for name, ax in zip(names, axes.flatten()):\n",
        "    sns.distplot(airbnb_data[name], ax=ax)\n",
        "\n",
        "plt.show()"
      ],
      "metadata": {
        "id": "M5d8BjprYYk1"
      },
      "execution_count": null,
      "outputs": []
    },
    {
      "cell_type": "markdown",
      "source": [
        "From the distplots it can be observed that latitude and longitude data seem to be normally distributed and most of the numeruc_features are positively skewed."
      ],
      "metadata": {
        "id": "c6SI3D2jYtsG"
      }
    },
    {
      "cell_type": "code",
      "source": [
        "#checking the OutLiers!!\n",
        "#Plot boxplots to find the distribution\n",
        "boxplot_data= airbnb_data[numeric_features[1:]]\n",
        "names = boxplot_data.columns\n",
        "nrows=2\n",
        "ncols = 4\n",
        "fig, axes = plt.subplots(nrows,ncols, figsize=(20,5))\n",
        "fig.tight_layout(h_pad=2)\n",
        "\n",
        "for name, ax in zip(names, axes.flatten()):\n",
        "    sns.boxplot(x=name, data=boxplot_data, ax=ax)\n",
        "\n",
        "plt.show()"
      ],
      "metadata": {
        "id": "LLJFoWJ_YYiY"
      },
      "execution_count": null,
      "outputs": []
    },
    {
      "cell_type": "markdown",
      "source": [
        "The boxplots indicate that the features contain mild as well as extreme outliers present which can be treated either using the IQR or the Z-score."
      ],
      "metadata": {
        "id": "FvSSMhEtY2Kk"
      }
    },
    {
      "cell_type": "markdown",
      "source": [
        "### **What can we learn about different hosts and areas?**"
      ],
      "metadata": {
        "id": "1a9Dy6V6cJXp"
      }
    },
    {
      "cell_type": "markdown",
      "source": [
        "we will see how hosts are preferring rooms w.r.t. areas."
      ],
      "metadata": {
        "id": "4P83eAMAccYw"
      }
    },
    {
      "cell_type": "code",
      "source": [
        "# Groupby the different id's w.r.t neighbourhood_groups.\n",
        "\n",
        "hosts_and_areas_df = airbnb_data.groupby(['neighbourhood_group'],as_index=False)['id'].count().sort_values(['id'],ascending=False).rename(columns={'neighbourhood_group':'area', 'id':'host_count'})\n",
        "hosts_and_areas_df"
      ],
      "metadata": {
        "id": "bfpHmDGXcXbU"
      },
      "execution_count": null,
      "outputs": []
    },
    {
      "cell_type": "code",
      "source": [
        "# Lets plot it for better understanding.\n",
        "fig = plt.figure(figsize=(7,7))\n",
        "plt.title('Percentage of hosts in each locations')\n",
        "\n",
        "plt.pie(data=hosts_and_areas_df, x='host_count', labels='area', explode=(0.01,0.01,0.01,0.01,0.01),autopct='%1.1f%%')\n",
        "\n",
        "#draw circle\n",
        "centre_circle = plt.Circle((0,0),0.70,fc='white')\n",
        "fig = plt.gcf()\n",
        "fig.gca().add_artist(centre_circle)\n",
        "\n",
        "plt.tight_layout()\n",
        "plt.show()"
      ],
      "metadata": {
        "id": "_vAsaqrTcivr"
      },
      "execution_count": null,
      "outputs": []
    },
    {
      "cell_type": "markdown",
      "source": [
        "*It can be observed that majority of the hosts are belong to the locations* ***Manhattan*** and ***Brooklyn***, *hence these are the most popular destinations.*"
      ],
      "metadata": {
        "id": "l2XZVTsWcrNM"
      }
    },
    {
      "cell_type": "code",
      "source": [
        "# Let's see who has the most listings and in which neighbourhood.\n",
        "host_listing_areas_df = airbnb_data.groupby(['host_name','neighbourhood_group'])['calculated_host_listings_count'].max().reset_index()\n",
        "top_hosts = host_listing_areas_df.sort_values(by = ['calculated_host_listings_count'], ascending = False).head()\n",
        "top_hosts"
      ],
      "metadata": {
        "id": "Oep1frdNcisa"
      },
      "execution_count": null,
      "outputs": []
    },
    {
      "cell_type": "markdown",
      "source": [
        "Sonder (NYC) has the maximum number of count of 327 and belong to Manhattan group."
      ],
      "metadata": {
        "id": "OnhdwzlQczML"
      }
    },
    {
      "cell_type": "code",
      "source": [
        "# Lets plot it for better understanding.\n",
        "fig = plt.figure(figsize=(7,7))\n",
        "plt.title('Percentage of listing count of top five hosts')\n",
        "\n",
        "plt.pie(data=top_hosts, x='calculated_host_listings_count', labels='host_name', explode=(0.01,0.01,0.01,0.01,0.01),autopct='%1.1f%%')\n",
        "\n",
        "#draw circle\n",
        "centre_circle = plt.Circle((0,0),0.70,fc='white')\n",
        "fig = plt.gcf()\n",
        "fig.gca().add_artist(centre_circle)\n",
        "\n",
        "plt.tight_layout()\n",
        "plt.show()"
      ],
      "metadata": {
        "id": "XJhZtGDScips"
      },
      "execution_count": null,
      "outputs": []
    },
    {
      "cell_type": "markdown",
      "source": [
        "### **Which room type is prefered in most popular neighbourhood?**"
      ],
      "metadata": {
        "id": "FC_iyAjIdEzA"
      }
    },
    {
      "cell_type": "code",
      "source": [
        "# Check the room type in these popular destinations.\n",
        "fig = plt.figure(figsize=(16,5))\n",
        "sns.countplot(data=airbnb_data, x='neighbourhood_group', hue='room_type', palette='inferno')\n",
        "plt.show()"
      ],
      "metadata": {
        "id": "nKrw1sNzdKwt"
      },
      "execution_count": null,
      "outputs": []
    },
    {
      "cell_type": "markdown",
      "source": [
        "If people are looking for rooms in these areas of **Manhattan** and **Brooklyn** then hosts are providing either **Private room** or **Entire home/apt**."
      ],
      "metadata": {
        "id": "FYRrOPyddUOE"
      }
    },
    {
      "cell_type": "markdown",
      "source": [
        "### **What can we learn from predictions? (ex: locations, prices, reviews, etc)**"
      ],
      "metadata": {
        "id": "IN4ORnrldWRn"
      }
    },
    {
      "cell_type": "code",
      "source": [
        "# Observing price and number_of_reviews columns\n",
        "\n",
        "a, ax = plt.subplots(figsize=(12, 5))\n",
        "fig = sns.scatterplot(x='price', y='number_of_reviews', data=airbnb_data)"
      ],
      "metadata": {
        "id": "o8uDx96FdbQJ"
      },
      "execution_count": null,
      "outputs": []
    },
    {
      "cell_type": "markdown",
      "source": [
        "By analysing above plot. we can see that for more price number of reviews are less but as price is somewhat less we get the more reviews."
      ],
      "metadata": {
        "id": "qFBYJTKFdjnt"
      }
    },
    {
      "cell_type": "code",
      "source": [
        "# Plotting neighbourhood_group on a pie-chart\n",
        "\n",
        "fig = plt.figure(figsize=(5,5), dpi=100)\n",
        "airbnb_data['neighbourhood_group'].value_counts().plot(kind='pie',  autopct='%1.0f%%', startangle=360, fontsize=10)"
      ],
      "metadata": {
        "id": "OR5XRCI7dbF5"
      },
      "execution_count": null,
      "outputs": []
    },
    {
      "cell_type": "code",
      "source": [
        "#checking_mean_price\n",
        "location_price_df = airbnb_data.groupby(['neighbourhood_group'],as_index=False)['price'].mean().rename(columns={'neighbourhood_group':'area', 'price':'mean_price'})\n",
        "location_price_df        #checking_mean_price"
      ],
      "metadata": {
        "id": "ewLOtnO3dgRR"
      },
      "execution_count": null,
      "outputs": []
    },
    {
      "cell_type": "code",
      "source": [
        "# Lets plot it for better understanding.\n",
        "fig = plt.figure(figsize=(7,7))\n",
        "plt.title('Percentage of pricess in each locations')\n",
        "\n",
        "plt.pie(data=location_price_df, x='mean_price', labels='area', explode=(0.01,0.01,0.01,0.01,0.01),autopct='%1.1f%%')\n",
        "\n",
        "plt.tight_layout()\n",
        "plt.show()"
      ],
      "metadata": {
        "id": "iKbbfGyYdgIo"
      },
      "execution_count": null,
      "outputs": []
    },
    {
      "cell_type": "markdown",
      "source": [
        "***Mean price is highest for Manhatan followed by Brooklyn and other locations.*** ***The higher number of hosts present in these areas might be the reason for these high prices.***"
      ],
      "metadata": {
        "id": "ZkSpYiDXdyoa"
      }
    },
    {
      "cell_type": "code",
      "source": [
        "avg_price = (airbnb_data['price'].mean(),2)\n",
        "print(avg_price)"
      ],
      "metadata": {
        "id": "54oCydKydgFS"
      },
      "execution_count": null,
      "outputs": []
    },
    {
      "cell_type": "markdown",
      "source": [
        "Average price of all neighbourhood is $152.74."
      ],
      "metadata": {
        "id": "xvMngvZ8d5jY"
      }
    },
    {
      "cell_type": "markdown",
      "source": [
        "### **Which hosts are the busiest and why?**"
      ],
      "metadata": {
        "id": "ZfeZ5plWd9FQ"
      }
    },
    {
      "cell_type": "code",
      "source": [
        "airbnb_data.head()"
      ],
      "metadata": {
        "id": "j3GeUAuQ9LzY"
      },
      "execution_count": null,
      "outputs": []
    },
    {
      "cell_type": "code",
      "source": [
        "# check top 10 unique busiest host name\n",
        "\n",
        "unique_host_names = airbnb_data['host_name'].value_counts().head(10)\n",
        "unique_host_names"
      ],
      "metadata": {
        "id": "nXLgVlBNeA1R"
      },
      "execution_count": null,
      "outputs": []
    },
    {
      "cell_type": "code",
      "source": [
        "# see in graphs\n",
        "from matplotlib import style\n",
        "\n",
        "fig = plt.figure(figsize= (10,6))\n",
        "bar_hstName = unique_host_names.plot(kind=\"bar\")\n",
        "bar_hstName.set_title('Host names bar chart')\n",
        "bar_hstName.set_xlabel('Host Names')\n",
        "bar_hstName.set_xticklabels(bar_hstName.get_xticklabels(), rotation=45)\n",
        "style.use('ggplot')\n",
        "\n",
        "plt.show()"
      ],
      "metadata": {
        "id": "-qXE8-s1eGb-"
      },
      "execution_count": null,
      "outputs": []
    },
    {
      "cell_type": "code",
      "source": [
        "#Busiest hosts would be those who have maximum number of reviews as people are booking frequently at those hosts.\n",
        "busiest_hosts_by_review = airbnb_data.groupby(['neighbourhood_group'])['number_of_reviews'].sum().reset_index()\n",
        "busiest_hosts_by_review = busiest_hosts_by_review.sort_values(by='number_of_reviews', ascending=False)\n",
        "busiest_hosts_by_review"
      ],
      "metadata": {
        "id": "_XXvzWf2eGY3"
      },
      "execution_count": null,
      "outputs": []
    },
    {
      "cell_type": "code",
      "source": [
        "# Create a plot to view the results.\n",
        "fig = plt.figure(figsize=(10,6))\n",
        "plt.title('neighbourhood_group vs number_of_reviews')\n",
        "sns.barplot(data=busiest_hosts_by_review, x='neighbourhood_group', y='number_of_reviews', palette='gnuplot2_r')\n",
        "plt.show()"
      ],
      "metadata": {
        "id": "vECPjmu2eGWr"
      },
      "execution_count": null,
      "outputs": []
    },
    {
      "cell_type": "markdown",
      "source": [
        "The neighbourhood_groups **Manhatan** and **Brooklyn** recieve the most number of reviews,Thus making the hosts from these areas the most busiest among all others."
      ],
      "metadata": {
        "id": "8kOfuo43e3dg"
      }
    },
    {
      "cell_type": "code",
      "source": [
        "#Busiest hosts would be those who have maximum availability_365 as people are booking frequently at those hosts.\n",
        "busiest_hosts_by_availability = airbnb_data.groupby(['neighbourhood_group'])['availability_365'].mean().reset_index()\n",
        "busiest_hosts_by_availability = busiest_hosts_by_availability.sort_values(by='availability_365', ascending=False)\n",
        "busiest_hosts_by_availability"
      ],
      "metadata": {
        "id": "Ln7p7hTHeGT9"
      },
      "execution_count": null,
      "outputs": []
    },
    {
      "cell_type": "code",
      "source": [
        "# Create a plot to view the results.\n",
        "fig = plt.figure(figsize=(10,6))\n",
        "plt.title('No. of reviews vs Avg_availability')\n",
        "sns.barplot(data=busiest_hosts_by_availability, x='neighbourhood_group', y='availability_365', palette='gnuplot2_r')\n",
        "plt.show()"
      ],
      "metadata": {
        "id": "oFFhtB2VeGQZ"
      },
      "execution_count": null,
      "outputs": []
    },
    {
      "cell_type": "markdown",
      "source": [
        "As we have seen Mahattan and brooklyn have maximum number of reviews, so offering the most desired room_types.\n",
        "Thus for these groups availability of rooms is less."
      ],
      "metadata": {
        "id": "-5bL1ERpfBma"
      }
    },
    {
      "cell_type": "code",
      "source": [
        "# Now merge the both datasets.\n",
        "busiest_host_df = pd.merge(busiest_hosts_by_review,busiest_hosts_by_availability,\n",
        "                            on = ['neighbourhood_group']).sort_values(['availability_365','number_of_reviews'],\n",
        "                            ascending = [True,False])\n",
        "\n",
        "# Check the top entries.\n",
        "busiest_host_df.head()"
      ],
      "metadata": {
        "id": "2AiVWYe9eGM-"
      },
      "execution_count": null,
      "outputs": []
    },
    {
      "cell_type": "code",
      "source": [
        "# Create a plot to view the results.\n",
        "fig = plt.figure(figsize=(15,9))\n",
        "plt.title('No. of reviews vs Avg_availability')\n",
        "sns.barplot(data=busiest_host_df, x='number_of_reviews', y='availability_365', palette='gnuplot2_r')\n",
        "plt.show()"
      ],
      "metadata": {
        "id": "Be5snxW2eGKT"
      },
      "execution_count": null,
      "outputs": []
    },
    {
      "cell_type": "markdown",
      "source": [
        "The above barplot shows the relation of number of reviews with the availability of these rooms throughout the year. This relation shows that as the number of reviews increase the availability descreases.\n"
      ],
      "metadata": {
        "id": "OxIZ_FVVfNv8"
      }
    },
    {
      "cell_type": "markdown",
      "source": [
        "### **Is there any noticeable difference of traffic among different areas and what could be the reason for it?**"
      ],
      "metadata": {
        "id": "yLns6OysfSP3"
      }
    },
    {
      "cell_type": "markdown",
      "source": [
        "**total no.of nights spent per room types:--**"
      ],
      "metadata": {
        "id": "fvSy3VcseZ0L"
      }
    },
    {
      "cell_type": "code",
      "source": [
        "'''To check the traffic among different areas we will check the number of night spends in those areas'''\n",
        "traffic_by_areas = airbnb_data.groupby(['neighbourhood_group'])['minimum_nights'].sum().reset_index()\n",
        "traffic_by_areas = traffic_by_areas.sort_values(by='minimum_nights', ascending=False)\n",
        "traffic_by_areas"
      ],
      "metadata": {
        "id": "KLoPzAYYfUTB"
      },
      "execution_count": null,
      "outputs": []
    },
    {
      "cell_type": "code",
      "source": [
        "fig = plt.figure(figsize=(15,10))\n",
        "plt.title('traffic_by_areas')\n",
        "sns.lineplot(y='minimum_nights', x='neighbourhood_group', data=traffic_by_areas)\n",
        "plt.show()"
      ],
      "metadata": {
        "id": "9es4SlmvfYsq"
      },
      "execution_count": null,
      "outputs": []
    },
    {
      "cell_type": "markdown",
      "source": [
        "As from the above figure,there's a huge difference in the traffic between the different locations. There might be many reasons for that.Let's find out"
      ],
      "metadata": {
        "id": "EA4uHZ0AgWGV"
      }
    },
    {
      "cell_type": "markdown",
      "source": [
        "1. As we saw number of reviews are maximum for three locations Manhaten, Brooklyn and Queens. So people are choosing these locations.\n",
        "\n",
        "2. Maximum number of the hosts belong to these locations. There are many options for the customers to choose as compared to other locations due to more hosts.\n",
        "\n",
        "3. These locations are attaracting people also because of its room type."
      ],
      "metadata": {
        "id": "g7MXsX9Hggoz"
      }
    },
    {
      "cell_type": "markdown",
      "source": [
        "### **Other Observations**"
      ],
      "metadata": {
        "id": "KNMkZygHgtUl"
      }
    },
    {
      "cell_type": "code",
      "source": [
        "# Analyzing top busiest neighbourhood\n",
        "\n",
        "fig = plt.figure(figsize=(5,5), dpi=100)\n",
        "airbnb_data['neighbourhood'].value_counts().head().plot(kind='pie',  autopct='%1.0f%%', startangle=360, fontsize=12)"
      ],
      "metadata": {
        "id": "7joJUMzxg0Tw"
      },
      "execution_count": null,
      "outputs": []
    },
    {
      "cell_type": "code",
      "source": [
        "#checking The most popular neighbourhood\n",
        "airbnb_data.groupby(['neighbourhood_group','neighbourhood','room_type'])['number_of_reviews'].max().reset_index().sort_values(by = 'number_of_reviews', ascending = False).head(10)"
      ],
      "metadata": {
        "id": "gzPuXwm1g1rh"
      },
      "execution_count": null,
      "outputs": []
    },
    {
      "cell_type": "markdown",
      "source": [
        "The most popular neighbourhood is **Jamaica** from **Queens** group which opted for Private room."
      ],
      "metadata": {
        "id": "ZwNP3Uqfg80N"
      }
    },
    {
      "cell_type": "markdown",
      "source": [
        "## **5. Solution to Business Objective**"
      ],
      "metadata": {
        "id": "JcMwzZxoAimU"
      }
    },
    {
      "cell_type": "markdown",
      "source": [
        "1. Manhattan being the star neighbourhood we can roll down a lot of festive offers encouraging longer stays during Christmas and coming up with loyalty cards for frequent visitors which can also work for Brooklyn and Queens.\n",
        "\n",
        "2. The star hosts should be incentivised to encourage them to maintain the properties and services company standards as per the company standards.\n",
        "\n",
        "3. Staten Island and Bronx can have discounts encouraging students to stay for a longer period. It can also have frequent check in cards for people from low income groups visiting regularly by offering good incentives and coupons.\n",
        "\n",
        "4. Some local tours can be clubbed during longer visits encouraging customers to stay longer and prefer their stays.\n",
        "\n",
        "5. Bronx and Staten Island can be preferred for shorter stays over other neighbourhoods making it budget friendly to some extent.\n"
      ],
      "metadata": {
        "id": "pASKb0qOza21"
      }
    },
    {
      "cell_type": "markdown",
      "source": [
        "# **Conclusion**"
      ],
      "metadata": {
        "id": "gCX9965dhzqZ"
      }
    },
    {
      "cell_type": "markdown",
      "source": [
        "1. Starting with the dataset loading, we have performed data pre-processing, EDA.\n",
        "\n",
        "2. Manhattan and Brooklyn are the two top most popular neighbourhood groups in terms of hosts count, number of reviews ,number of listing,maximum number of nights spends in these areas. So it might also be reason of traffic and high prices.\n",
        "\n",
        "3. For other neighbourhood groups namely Queens, Bronx and Staten island there aren't as popular as these two, especially on Staten Island.\n",
        "\n",
        "4. The dataset can be further used for price prediction by building a linear model. The data needs to be treated of outliers and skewness for a linear regression as well as other models.\n",
        "\n",
        "5.  This Airbnb(NYC 2019) Dataset For The Year 2019 Appeared to be very rich Dataset with a variety of columns that allowed us to do deep data exploration.\n",
        "In the column name and host_name which have 16 and 21 null value only. Null values are present in last_review and reviews_per_month which can be dropped both have most null values is 10052.\n",
        "\n",
        "6. From the dist. plots it can be observed that latitude and longitude data seem to be normally distributed and most of the numeric_features are positively skewed.\n",
        "\n",
        "7. People stay for longer duration of time in private rooms in Brooklyn and Manhattan.\n",
        "\n",
        "8. More customers preferred Manhattan location for night stay then Brooklyn.\n",
        "\n",
        "9. Entire home/apt’room type has the highest number of listing of 52% and shared room is the least listed room type at only 2.4% in total.\n",
        "63.2% costumer spend night in entire home and 1.6% spend night in shared room."
      ],
      "metadata": {
        "id": "Fjb1IsQkh3yE"
      }
    },
    {
      "cell_type": "markdown",
      "source": [
        "**THANK YOU**"
      ],
      "metadata": {
        "id": "l3bEOdTlRisJ"
      }
    },
    {
      "cell_type": "markdown",
      "source": [
        "### ***Hurrah! we have successfully completed our EDA Capstone Project !!!***"
      ],
      "metadata": {
        "id": "gIfDvo9L0UH2"
      }
    }
  ]
}